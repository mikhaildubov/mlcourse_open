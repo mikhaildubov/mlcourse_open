{
 "cells": [
  {
   "cell_type": "markdown",
   "metadata": {},
   "source": [
    "<center>\n",
    "<img src=\"../../img/ods_stickers.jpg\">\n",
    "## Открытый курс по машинному обучению\n",
    "</center>\n",
    "<center>Автор материала: программист-исследователь Mail.ru Group, старший преподаватель <br>Факультета Компьютерных Наук ВШЭ Юрий Кашницкий"
   ]
  },
  {
   "cell_type": "markdown",
   "metadata": {},
   "source": [
    "# <center> Домашнее задание № 8. Часть 2\n",
    "## <center> Vowpal Wabbit в задаче классификации тегов вопросов на Stackoverflow"
   ]
  },
  {
   "cell_type": "markdown",
   "metadata": {},
   "source": [
    "## План 2 части домашнего задания\n",
    "    2.1. Введение\n",
    "    2.2. Описание данных\n",
    "    2.3. Предобработка данных\n",
    "    2.4. Обучение и проверка моделей\n",
    "    2.5. Заключение"
   ]
  },
  {
   "cell_type": "markdown",
   "metadata": {},
   "source": [
    "### 2.1. Введение\n",
    "\n",
    "В этом задании вы будете делать примерно то же, что я каждую неделю –  в Mail.ru Group: обучать модели на выборке в несколько гигабайт. Задание можно выполнить и на Windows с Python, но я рекомендую поработать под \\*NIX-системой (например, через Docker) и активно использовать язык bash.\n",
    "Немного снобизма (простите, но правда): если вы захотите работать в лучших компаниях мира в области ML, вам все равно понадобится опыт работы с bash под UNIX.\n",
    "\n",
    "[Веб-форма](https://goo.gl/forms/z8zENbMiaEAeB7nG3) для ответов.\n",
    "\n",
    "Для выполнения задания понадобится установленный Vowpal Wabbit (уже есть в докер-контейнере курса, см. инструкцию в README [репозитория](https://github.com/Yorko/mlcourse_open) нашего курса) и примерно 70 Гб дискового пространства. Я тестировал решение не на каком-то суперкомпе, а на Macbook Pro 2015 (8 ядер, 16 Гб памяти), и самая тяжеловесная модель обучалась около 12 минут, так что задание реально выполнить и с простым железом. Но если вы планируете когда-либо арендовать сервера Amazon, можно попробовать это сделать уже сейчас.\n",
    "\n",
    "Материалы в помощь:\n",
    " - интерактивный [тьюториал](https://www.codecademy.com/en/courses/learn-the-command-line/lessons/environment/exercises/bash-profile) CodeAcademy по утилитам командной строки UNIX (примерно на час-полтора)\n",
    " - [статья](https://habrahabr.ru/post/280562/) про то, как арендовать на Amazon машину (еще раз: это не обязательно для выполнения задания, но будет хорошим опытом, если вы это делаете впервые)"
   ]
  },
  {
   "cell_type": "markdown",
   "metadata": {},
   "source": [
    "### 2.2. Описание данных"
   ]
  },
  {
   "cell_type": "markdown",
   "metadata": {},
   "source": [
    "Имеются 10 Гб вопросов со StackOverflow – [скачайте](https://yadi.sk/d/krikdUic3Ggjyf) эту выборку. \n",
    "\n",
    "Формат данных простой:<br>\n",
    "<center>*текст вопроса* (слова через пробел) TAB *теги вопроса* (через пробел)\n",
    "\n",
    "Здесь TAB – это символ табуляции.\n",
    "Пример первой записи в выборке:"
   ]
  },
  {
   "cell_type": "code",
   "execution_count": 2,
   "metadata": {
    "collapsed": false
   },
   "outputs": [
    {
     "name": "stdout",
     "output_type": "stream",
     "text": [
      " is there a way to apply a background color through css at the tr level i can apply it at the td level like this my td background color e8e8e8 background e8e8e8 however the background color doesn t seem to get applied when i attempt to apply the background color at the tr level like this my tr background color e8e8e8 background e8e8e8 is there a css trick to making this work or does css not natively support this for some reason \tcss css3 css-selectors\r\n"
     ]
    }
   ],
   "source": [
    "!head -1 stackoverflow.10kk.tsv"
   ]
  },
  {
   "cell_type": "markdown",
   "metadata": {},
   "source": [
    "Здесь у нас текст вопроса, затем табуляция и теги вопроса: *css, css3* и *css-selectors*. Всего в выборке таких вопросов 10 миллионов. "
   ]
  },
  {
   "cell_type": "code",
   "execution_count": 3,
   "metadata": {
    "collapsed": false
   },
   "outputs": [
    {
     "name": "stdout",
     "output_type": "stream",
     "text": [
      "10000000 stackoverflow.10kk.tsv\n",
      "CPU times: user 156 ms, sys: 32 ms, total: 188 ms\n",
      "Wall time: 6.43 s\n"
     ]
    }
   ],
   "source": [
    "%%time\n",
    "!wc -l stackoverflow.10kk.tsv"
   ]
  },
  {
   "cell_type": "markdown",
   "metadata": {},
   "source": [
    "Обратите внимание на то, что такие данные я уже не хочу загружать в оперативную память и, пока можно, буду пользоваться эффективными утилитами UNIX –  head, tail, wc, cat, cut и прочими."
   ]
  },
  {
   "cell_type": "markdown",
   "metadata": {},
   "source": [
    "### 2.3. Предобработка данных"
   ]
  },
  {
   "cell_type": "markdown",
   "metadata": {},
   "source": [
    "Давайте выберем в наших данных все вопросы с тегами *javascript, java, python, ruby, php, c++, c#, go, scala* и  *swift* и подготовим обучающую выборку в формате Vowpal Wabbit. Будем решать задачу 10-классовой классификации вопросов по перечисленным тегам.\n",
    "\n",
    "Вообще, как мы видим, у каждого вопроса может быть несколько тегов, но мы упростим себе задачу и будем у каждого вопроса выбирать один из перечисленных тегов либо игнорировать вопрос, если таковых тегов нет. \n",
    "Но вообще VW поддерживает multilabel classification (аргумент  --multilabel_oaa).\n",
    "<br>\n",
    "<br>\n",
    "Реализуйте в виде отдельного файла `preprocess.py` код для подготовки данных. Он должен отобрать строки, в которых есть перечисленные теги, и переписать их в отдельный файл в формат Vowpal Wabbit. Детали:\n",
    " - скрипт должен работать с аргументами командной строки: с путями к файлам на входе и на выходе\n",
    " - строки обрабатываются по одной (можно использовать tqdm для подсчета числа итераций)\n",
    " - если табуляций в строке нет или их больше одной, считаем строку поврежденной и пропускаем\n",
    " - в противном случае смотрим, сколько в строке тегов из списка *javascript, java, python, ruby, php, c++, c#, go, scala* и  *swift*. Если ровно один, то записываем строку в выходной файл в формате VW: `label | text`, где `label` – число от 1 до 10 (1 - *javascript*, ... 10 – *swift*). Пропускаем те строки, где интересующих тегов больше или меньше одного \n",
    " - из текста вопроса надо выкинуть двоеточия и вертикальные палки, если они есть – в VW это спецсимволы"
   ]
  },
  {
   "cell_type": "code",
   "execution_count": 4,
   "metadata": {
    "collapsed": true
   },
   "outputs": [],
   "source": [
    "import os\n",
    "from tqdm import tqdm\n",
    "from time import time\n",
    "import numpy as np\n",
    "from sklearn.metrics import accuracy_score"
   ]
  },
  {
   "cell_type": "markdown",
   "metadata": {
    "collapsed": true
   },
   "source": [
    "Должно получиться вот такое число строк – 4389054. Как видите, 10 Гб у меня обработались примерно за полторы минуты."
   ]
  },
  {
   "cell_type": "code",
   "execution_count": 12,
   "metadata": {
    "collapsed": false
   },
   "outputs": [
    {
     "name": "stdout",
     "output_type": "stream",
     "text": [
      "10000000it [02:54, 57199.34it/s]\n",
      "4389054 lines selected, 15 lines corrupted.\n"
     ]
    }
   ],
   "source": [
    "!python preprocess.py stackoverflow.10kk.tsv stackoverflow.vw"
   ]
  },
  {
   "cell_type": "markdown",
   "metadata": {},
   "source": [
    "Поделите выборку на обучающую, проверочную и тестовую части в равной пропорции - по  1463018 в каждый файл. Перемешивать не надо, первые 1463018 строк должны пойти в обучающую часть `stackoverflow_train.vw`, последние 1463018 – в тестовую `stackoverflow_test.vw`, оставшиеся – в проверочную `stackoverflow_valid.vw`. \n",
    "\n",
    "Также сохраните векторы ответов для проверочной и тестовой выборки в отдельные файлы `stackoverflow_valid_labels.txt` и `stackoverflow_test_labels.txt`.\n",
    "\n",
    "Тут вам помогут утилиты `head`, `tail`, `split`, `cat` и `cut`."
   ]
  },
  {
   "cell_type": "code",
   "execution_count": 13,
   "metadata": {
    "collapsed": true
   },
   "outputs": [],
   "source": [
    "!head -n 1463018 stackoverflow.vw > stackoverflow_train.vw"
   ]
  },
  {
   "cell_type": "code",
   "execution_count": 14,
   "metadata": {
    "collapsed": true
   },
   "outputs": [],
   "source": [
    "!tail -n 1463018 stackoverflow.vw > stackoverflow_test.vw"
   ]
  },
  {
   "cell_type": "code",
   "execution_count": 15,
   "metadata": {
    "collapsed": true
   },
   "outputs": [],
   "source": [
    "!head -n 2926036 stackoverflow.vw | tail -n 1463018 > stackoverflow_valid.vw"
   ]
  },
  {
   "cell_type": "code",
   "execution_count": 17,
   "metadata": {
    "collapsed": false
   },
   "outputs": [],
   "source": [
    "!cut -d '|' -f 1 stackoverflow_valid.vw > stackoverflow_valid_labels.txt"
   ]
  },
  {
   "cell_type": "code",
   "execution_count": 18,
   "metadata": {
    "collapsed": true
   },
   "outputs": [],
   "source": [
    "!cut -d '|' -f 1 stackoverflow_test.vw > stackoverflow_test_labels.txt"
   ]
  },
  {
   "cell_type": "code",
   "execution_count": 19,
   "metadata": {
    "collapsed": false
   },
   "outputs": [
    {
     "name": "stdout",
     "output_type": "stream",
     "text": [
      "9 \r\n",
      "1 \r\n",
      "7 \r\n",
      "5 \r\n",
      "7 \r\n",
      "9 \r\n",
      "7 \r\n",
      "2 \r\n",
      "1 \r\n",
      "3 \r\n"
     ]
    }
   ],
   "source": [
    "!head stackoverflow_test_labels.txt"
   ]
  },
  {
   "cell_type": "markdown",
   "metadata": {},
   "source": [
    "### 2.4. Обучение и проверка моделей"
   ]
  },
  {
   "cell_type": "markdown",
   "metadata": {},
   "source": [
    "Обучите Vowpal Wabbit на выборке `stackoverflow_train.vw` 9 раз, перебирая параметры passes (1,3,5), ngram (1,2,3).\n",
    "Остальные параметры укажите следующие: bit_precision=28 и seed=17. Также скажите VW, что это 10-классовая задача.\n",
    "\n",
    "Проверяйте долю правильных ответов на выборке `stackoverflow_valid.vw`. Выберите лучшую модель и проверьте качество на выборке `stackoverflow_test.vw`."
   ]
  },
  {
   "cell_type": "code",
   "execution_count": null,
   "metadata": {
    "collapsed": true
   },
   "outputs": [],
   "source": [
    "# NOTE: При passes > 1 необходимо использовать параметр -c (\"cache\"), иначе все ломается"
   ]
  },
  {
   "cell_type": "code",
   "execution_count": 1,
   "metadata": {
    "collapsed": false
   },
   "outputs": [],
   "source": [
    "!vw --oaa 10 --passes 1 --ngram 1 -b 28 --random_seed 17 -d stackoverflow_train.vw -f stackoverflow_model_1_1.vw --quiet\n",
    "!vw --oaa 10 --passes 1 --ngram 2 -b 28 --random_seed 17 -d stackoverflow_train.vw -f stackoverflow_model_1_2.vw --quiet\n",
    "!vw --oaa 10 --passes 1 --ngram 3 -b 28 --random_seed 17 -d stackoverflow_train.vw -f stackoverflow_model_1_3.vw --quiet\n",
    "!vw --oaa 10 --passes 3 --ngram 1 -b 28 --random_seed 17 -d stackoverflow_train.vw -f stackoverflow_model_3_1.vw --quiet -c\n",
    "!vw --oaa 10 --passes 3 --ngram 2 -b 28 --random_seed 17 -d stackoverflow_train.vw -f stackoverflow_model_3_2.vw --quiet -c\n",
    "!vw --oaa 10 --passes 3 --ngram 3 -b 28 --random_seed 17 -d stackoverflow_train.vw -f stackoverflow_model_3_3.vw --quiet -c\n",
    "!vw --oaa 10 --passes 5 --ngram 1 -b 28 --random_seed 17 -d stackoverflow_train.vw -f stackoverflow_model_5_1.vw --quiet -c\n",
    "!vw --oaa 10 --passes 5 --ngram 2 -b 28 --random_seed 17 -d stackoverflow_train.vw -f stackoverflow_model_5_2.vw --quiet -c\n",
    "!vw --oaa 10 --passes 5 --ngram 3 -b 28 --random_seed 17 -d stackoverflow_train.vw -f stackoverflow_model_5_3.vw --quiet -c"
   ]
  },
  {
   "cell_type": "code",
   "execution_count": 2,
   "metadata": {
    "collapsed": false
   },
   "outputs": [
    {
     "name": "stdout",
     "output_type": "stream",
     "text": [
      "Generating 1-grams for all namespaces.\n",
      "only testing\n",
      "predictions = stackoverflow_model_1_1_valid_predictions.txt\n",
      "Num weight bits = 28\n",
      "learning rate = 0.5\n",
      "initial_t = 0\n",
      "power_t = 0.5\n",
      "using no cache\n",
      "Reading datafile = stackoverflow_valid.vw\n",
      "num sources = 1\n",
      "average  since         example        example  current  current  current\n",
      "loss     last          counter         weight    label  predict features\n",
      "0.000000 0.000000            1            1.0        2        2      178\n",
      "0.000000 0.000000            2            2.0        7        7       74\n",
      "0.000000 0.000000            4            4.0        5        5      259\n",
      "0.000000 0.000000            8            8.0        7        7      144\n",
      "0.000000 0.000000           16           16.0        6        6      359\n",
      "0.000000 0.000000           32           32.0        2        2      400\n",
      "0.062500 0.125000           64           64.0        5        5     1061\n",
      "0.070312 0.078125          128          128.0        2        2      132\n",
      "0.085938 0.101562          256          256.0        6        6       88\n",
      "0.078125 0.070312          512          512.0        7        6       35\n",
      "0.073242 0.068359         1024         1024.0        1        1       88\n",
      "0.084473 0.095703         2048         2048.0        2        2      243\n",
      "0.083008 0.081543         4096         4096.0        2        2      263\n",
      "0.085205 0.087402         8192         8192.0        7        7      272\n",
      "0.085022 0.084839        16384        16384.0        2        2      127\n",
      "0.083527 0.082031        32768        32768.0        6        6       91\n",
      "0.084702 0.085876        65536        65536.0        5        5      286\n",
      "0.084320 0.083939       131072       131072.0        5        5      176\n",
      "0.084423 0.084526       262144       262144.0        2        2      248\n",
      "0.084423 0.084423       524288       524288.0        7        7       36\n",
      "0.084977 0.085531      1048576      1048576.0        1        1      110\n",
      "\n",
      "finished run\n",
      "number of examples per pass = 1463018\n",
      "passes used = 1\n",
      "weighted example sum = 1463018.000000\n",
      "weighted label sum = 0.000000\n",
      "average loss = 0.084846\n",
      "total feature number = 291768232\n",
      "Generating 2-grams for all namespaces.\n",
      "only testing\n",
      "predictions = stackoverflow_model_1_2_valid_predictions.txt\n",
      "Num weight bits = 28\n",
      "learning rate = 0.5\n",
      "initial_t = 0\n",
      "power_t = 0.5\n",
      "using no cache\n",
      "Reading datafile = stackoverflow_valid.vw\n",
      "num sources = 1\n",
      "average  since         example        example  current  current  current\n",
      "loss     last          counter         weight    label  predict features\n",
      "1.000000 1.000000            1            1.0        2        7      354\n",
      "0.500000 0.000000            2            2.0        7        7      146\n",
      "0.250000 0.000000            4            4.0        5        5      516\n",
      "0.125000 0.000000            8            8.0        7        7      286\n",
      "0.125000 0.125000           16           16.0        6        6      716\n",
      "0.062500 0.000000           32           32.0        2        2      798\n",
      "0.062500 0.062500           64           64.0        5        5     2120\n",
      "0.046875 0.031250          128          128.0        2        2      262\n",
      "0.074219 0.101562          256          256.0        6        6      174\n",
      "0.058594 0.042969          512          512.0        7        7       68\n",
      "0.057617 0.056641         1024         1024.0        1        1      174\n",
      "0.062500 0.067383         2048         2048.0        2        2      484\n",
      "0.063965 0.065430         4096         4096.0        2        2      524\n",
      "0.066528 0.069092         8192         8192.0        7        7      542\n",
      "0.069092 0.071655        16384        16384.0        2        2      252\n",
      "0.068390 0.067688        32768        32768.0        6        6      180\n",
      "0.069061 0.069733        65536        65536.0        5        5      570\n",
      "0.068672 0.068283       131072       131072.0        5        5      350\n",
      "0.068424 0.068176       262144       262144.0        2        2      494\n",
      "0.068739 0.069054       524288       524288.0        7        7       70\n",
      "0.068953 0.069166      1048576      1048576.0        1        1      218\n",
      "\n",
      "finished run\n",
      "number of examples per pass = 1463018\n",
      "passes used = 1\n",
      "weighted example sum = 1463018.000000\n",
      "weighted label sum = 0.000000\n",
      "average loss = 0.068916\n",
      "total feature number = 580610428\n",
      "Generating 3-grams for all namespaces.\n",
      "only testing\n",
      "predictions = stackoverflow_model_1_3_valid_predictions.txt\n",
      "Num weight bits = 28\n",
      "learning rate = 0.5\n",
      "initial_t = 0\n",
      "power_t = 0.5\n",
      "using no cache\n",
      "Reading datafile = stackoverflow_valid.vw\n",
      "num sources = 1\n",
      "average  since         example        example  current  current  current\n",
      "loss     last          counter         weight    label  predict features\n",
      "1.000000 1.000000            1            1.0        2        7      529\n",
      "0.500000 0.000000            2            2.0        7        7      217\n",
      "0.250000 0.000000            4            4.0        5        5      772\n",
      "0.125000 0.000000            8            8.0        7        7      427\n",
      "0.062500 0.000000           16           16.0        6        6     1072\n",
      "0.031250 0.000000           32           32.0        2        2     1195\n",
      "0.046875 0.062500           64           64.0        5        5     3178\n",
      "0.046875 0.046875          128          128.0        2        2      391\n",
      "0.078125 0.109375          256          256.0        6        6      259\n",
      "0.066406 0.054688          512          512.0        7        7      100\n",
      "0.065430 0.064453         1024         1024.0        1        1      259\n",
      "0.066406 0.067383         2048         2048.0        2        2      724\n",
      "0.066895 0.067383         4096         4096.0        2        2      784\n",
      "0.069946 0.072998         8192         8192.0        7        7      811\n",
      "0.072388 0.074829        16384        16384.0        2        2      376\n",
      "0.071899 0.071411        32768        32768.0        6        6      268\n",
      "0.072311 0.072723        65536        65536.0        5        5      853\n",
      "0.071831 0.071350       131072       131072.0        5        5      523\n",
      "0.070805 0.069778       262144       262144.0        2        2      739\n",
      "0.071125 0.071445       524288       524288.0        7        7      103\n",
      "0.071424 0.071722      1048576      1048576.0        1        1      325\n",
      "\n",
      "finished run\n",
      "number of examples per pass = 1463018\n",
      "passes used = 1\n",
      "weighted example sum = 1463018.000000\n",
      "weighted label sum = 0.000000\n",
      "average loss = 0.071397\n",
      "total feature number = 867989607\n",
      "Generating 1-grams for all namespaces.\n",
      "only testing\n",
      "predictions = stackoverflow_model_3_1_valid_predictions.txt\n",
      "Num weight bits = 28\n",
      "learning rate = 0.5\n",
      "initial_t = 0\n",
      "power_t = 0.5\n",
      "using no cache\n",
      "Reading datafile = stackoverflow_valid.vw\n",
      "num sources = 1\n",
      "average  since         example        example  current  current  current\n",
      "loss     last          counter         weight    label  predict features\n",
      "0.000000 0.000000            1            1.0        2        2      178\n",
      "0.000000 0.000000            2            2.0        7        7       74\n",
      "0.000000 0.000000            4            4.0        5        5      259\n",
      "0.000000 0.000000            8            8.0        7        7      144\n",
      "0.000000 0.000000           16           16.0        6        6      359\n",
      "0.000000 0.000000           32           32.0        2        2      400\n",
      "0.062500 0.125000           64           64.0        5        5     1061\n",
      "0.054688 0.046875          128          128.0        2        2      132\n",
      "0.070312 0.085938          256          256.0        6        6       88\n",
      "0.068359 0.066406          512          512.0        7        6       35\n",
      "0.073242 0.078125         1024         1024.0        1        1       88\n",
      "0.081055 0.088867         2048         2048.0        2        2      243\n",
      "0.087158 0.093262         4096         4096.0        2        2      263\n",
      "0.085693 0.084229         8192         8192.0        7        7      272\n",
      "0.084412 0.083130        16384        16384.0        2        2      127\n",
      "0.083984 0.083557        32768        32768.0        6        6       91\n",
      "0.085846 0.087708        65536        65536.0        5        5      286\n",
      "0.085564 0.085281       131072       131072.0        5        5      176\n",
      "0.085381 0.085197       262144       262144.0        2        2      248\n",
      "0.085276 0.085171       524288       524288.0        7        7       36\n",
      "0.085725 0.086174      1048576      1048576.0        1        1      110\n",
      "\n",
      "finished run\n",
      "number of examples per pass = 1463018\n",
      "passes used = 1\n",
      "weighted example sum = 1463018.000000\n",
      "weighted label sum = 0.000000\n",
      "average loss = 0.085631\n",
      "total feature number = 291768232\n",
      "Generating 2-grams for all namespaces.\n",
      "only testing\n",
      "predictions = stackoverflow_model_3_2_valid_predictions.txt\n",
      "Num weight bits = 28\n",
      "learning rate = 0.5\n",
      "initial_t = 0\n",
      "power_t = 0.5\n",
      "using no cache\n",
      "Reading datafile = stackoverflow_valid.vw\n",
      "num sources = 1\n",
      "average  since         example        example  current  current  current\n",
      "loss     last          counter         weight    label  predict features\n",
      "1.000000 1.000000            1            1.0        2        7      354\n",
      "0.500000 0.000000            2            2.0        7        7      146\n",
      "0.250000 0.000000            4            4.0        5        5      516\n",
      "0.125000 0.000000            8            8.0        7        7      286\n",
      "0.125000 0.125000           16           16.0        6        6      716\n",
      "0.062500 0.000000           32           32.0        2        2      798\n",
      "0.062500 0.062500           64           64.0        5        5     2120\n",
      "0.046875 0.031250          128          128.0        2        2      262\n",
      "0.074219 0.101562          256          256.0        6        6      174\n",
      "0.062500 0.050781          512          512.0        7        7       68\n",
      "0.060547 0.058594         1024         1024.0        1        1      174\n",
      "0.064453 0.068359         2048         2048.0        2        2      484\n",
      "0.064453 0.064453         4096         4096.0        2        2      524\n",
      "0.069580 0.074707         8192         8192.0        7        7      542\n",
      "0.071167 0.072754        16384        16384.0        2        2      252\n",
      "0.071045 0.070923        32768        32768.0        6        2      180\n",
      "0.072067 0.073090        65536        65536.0        5        5      570\n",
      "0.071945 0.071823       131072       131072.0        5        5      350\n",
      "0.071735 0.071526       262144       262144.0        2        2      494\n",
      "0.072044 0.072353       524288       524288.0        7        7       70\n",
      "0.072302 0.072559      1048576      1048576.0        1        1      218\n",
      "\n",
      "finished run\n",
      "number of examples per pass = 1463018\n",
      "passes used = 1\n",
      "weighted example sum = 1463018.000000\n",
      "weighted label sum = 0.000000\n",
      "average loss = 0.072199\n",
      "total feature number = 580610428\n",
      "Generating 3-grams for all namespaces.\n",
      "only testing\n",
      "predictions = stackoverflow_model_3_3_valid_predictions.txt\n",
      "Num weight bits = 28\n",
      "learning rate = 0.5\n",
      "initial_t = 0\n",
      "power_t = 0.5\n",
      "using no cache\n",
      "Reading datafile = stackoverflow_valid.vw\n",
      "num sources = 1\n",
      "average  since         example        example  current  current  current\n",
      "loss     last          counter         weight    label  predict features\n",
      "1.000000 1.000000            1            1.0        2        7      529\n",
      "0.500000 0.000000            2            2.0        7        7      217\n",
      "0.250000 0.000000            4            4.0        5        5      772\n",
      "0.125000 0.000000            8            8.0        7        7      427\n",
      "0.125000 0.125000           16           16.0        6        6     1072\n",
      "0.062500 0.000000           32           32.0        2        2     1195\n",
      "0.062500 0.062500           64           64.0        5        5     3178\n",
      "0.054688 0.046875          128          128.0        2        2      391\n",
      "0.074219 0.093750          256          256.0        6        6      259\n",
      "0.064453 0.054688          512          512.0        7        7      100\n",
      "0.061523 0.058594         1024         1024.0        1        1      259\n",
      "0.069336 0.077148         2048         2048.0        2        2      724\n",
      "0.069824 0.070312         4096         4096.0        2        2      784\n",
      "0.071167 0.072510         8192         8192.0        7        7      811\n",
      "0.073853 0.076538        16384        16384.0        2        2      376\n",
      "0.073303 0.072754        32768        32768.0        6        2      268\n",
      "0.074036 0.074768        65536        65536.0        5        5      853\n",
      "0.073822 0.073608       131072       131072.0        5        5      523\n",
      "0.073242 0.072662       262144       262144.0        2        2      739\n",
      "0.073513 0.073784       524288       524288.0        7        7      103\n",
      "0.073659 0.073805      1048576      1048576.0        1        1      325\n",
      "\n",
      "finished run\n",
      "number of examples per pass = 1463018\n",
      "passes used = 1\n",
      "weighted example sum = 1463018.000000\n",
      "weighted label sum = 0.000000\n",
      "average loss = 0.073612\n",
      "total feature number = 867989607\n",
      "Generating 1-grams for all namespaces.\n",
      "only testing\n",
      "predictions = stackoverflow_model_5_1_valid_predictions.txt\n",
      "Num weight bits = 28\n",
      "learning rate = 0.5\n",
      "initial_t = 0\n",
      "power_t = 0.5\n",
      "using no cache\n",
      "Reading datafile = stackoverflow_valid.vw\n",
      "num sources = 1\n",
      "average  since         example        example  current  current  current\n",
      "loss     last          counter         weight    label  predict features\n",
      "0.000000 0.000000            1            1.0        2        2      178\n",
      "0.000000 0.000000            2            2.0        7        7       74\n",
      "0.000000 0.000000            4            4.0        5        5      259\n",
      "0.000000 0.000000            8            8.0        7        7      144\n",
      "0.000000 0.000000           16           16.0        6        6      359\n",
      "0.000000 0.000000           32           32.0        2        2      400\n",
      "0.062500 0.125000           64           64.0        5        5     1061\n",
      "0.062500 0.062500          128          128.0        2        2      132\n",
      "0.082031 0.101562          256          256.0        6        6       88\n",
      "0.078125 0.074219          512          512.0        7        6       35\n",
      "0.074219 0.070312         1024         1024.0        1        1       88\n",
      "0.082520 0.090820         2048         2048.0        2        2      243\n",
      "0.088135 0.093750         4096         4096.0        2        2      263\n",
      "0.086060 0.083984         8192         8192.0        7        7      272\n",
      "0.085876 0.085693        16384        16384.0        2        2      127\n",
      "0.085205 0.084534        32768        32768.0        6        6       91\n",
      "0.086761 0.088318        65536        65536.0        5        5      286\n",
      "0.086632 0.086502       131072       131072.0        5        5      176\n",
      "0.086311 0.085991       262144       262144.0        2        2      248\n",
      "0.086119 0.085926       524288       524288.0        7        7       36\n",
      "0.086538 0.086958      1048576      1048576.0        1        1      110\n",
      "\n",
      "finished run\n",
      "number of examples per pass = 1463018\n",
      "passes used = 1\n",
      "weighted example sum = 1463018.000000\n",
      "weighted label sum = 0.000000\n",
      "average loss = 0.086346\n",
      "total feature number = 291768232\n",
      "Generating 2-grams for all namespaces.\n",
      "only testing\n",
      "predictions = stackoverflow_model_5_2_valid_predictions.txt\n",
      "Num weight bits = 28\n",
      "learning rate = 0.5\n",
      "initial_t = 0\n",
      "power_t = 0.5\n",
      "using no cache\n",
      "Reading datafile = stackoverflow_valid.vw\n",
      "num sources = 1\n",
      "average  since         example        example  current  current  current\n",
      "loss     last          counter         weight    label  predict features\n",
      "1.000000 1.000000            1            1.0        2        7      354\n",
      "0.500000 0.000000            2            2.0        7        7      146\n",
      "0.250000 0.000000            4            4.0        5        5      516\n",
      "0.125000 0.000000            8            8.0        7        7      286\n",
      "0.125000 0.125000           16           16.0        6        6      716\n",
      "0.062500 0.000000           32           32.0        2        2      798\n",
      "0.078125 0.093750           64           64.0        5        5     2120\n",
      "0.054688 0.031250          128          128.0        2        2      262\n",
      "0.078125 0.101562          256          256.0        6        6      174\n",
      "0.066406 0.054688          512          512.0        7        7       68\n",
      "0.059570 0.052734         1024         1024.0        1        1      174\n",
      "0.063965 0.068359         2048         2048.0        2        2      484\n",
      "0.064941 0.065918         4096         4096.0        2        2      524\n",
      "0.068604 0.072266         8192         8192.0        7        7      542\n",
      "0.070740 0.072876        16384        16384.0        2        2      252\n",
      "0.070587 0.070435        32768        32768.0        6        6      180\n",
      "0.071198 0.071808        65536        65536.0        5        5      570\n",
      "0.070648 0.070099       131072       131072.0        5        5      350\n",
      "0.070221 0.069794       262144       262144.0        2        2      494\n",
      "0.070614 0.071007       524288       524288.0        7        7       70\n",
      "0.070823 0.071032      1048576      1048576.0        1        1      218\n",
      "\n",
      "finished run\n",
      "number of examples per pass = 1463018\n",
      "passes used = 1\n",
      "weighted example sum = 1463018.000000\n",
      "weighted label sum = 0.000000\n",
      "average loss = 0.070765\n",
      "total feature number = 580610428\n",
      "Generating 3-grams for all namespaces.\n",
      "only testing\n",
      "predictions = stackoverflow_model_5_3_valid_predictions.txt\n",
      "Num weight bits = 28\n",
      "learning rate = 0.5\n",
      "initial_t = 0\n",
      "power_t = 0.5\n",
      "using no cache\n",
      "Reading datafile = stackoverflow_valid.vw\n",
      "num sources = 1\n",
      "average  since         example        example  current  current  current\n",
      "loss     last          counter         weight    label  predict features\n",
      "1.000000 1.000000            1            1.0        2        7      529\n",
      "0.500000 0.000000            2            2.0        7        7      217\n",
      "0.250000 0.000000            4            4.0        5        5      772\n",
      "0.125000 0.000000            8            8.0        7        7      427\n",
      "0.125000 0.125000           16           16.0        6        6     1072\n",
      "0.062500 0.000000           32           32.0        2        2     1195\n",
      "0.078125 0.093750           64           64.0        5        5     3178\n",
      "0.070312 0.062500          128          128.0        2        2      391\n",
      "0.082031 0.093750          256          256.0        6        6      259\n",
      "0.066406 0.050781          512          512.0        7        7      100\n",
      "0.062500 0.058594         1024         1024.0        1        1      259\n",
      "0.068848 0.075195         2048         2048.0        2        2      724\n",
      "0.068604 0.068359         4096         4096.0        2        2      784\n",
      "0.071411 0.074219         8192         8192.0        7        7      811\n",
      "0.074280 0.077148        16384        16384.0        2        2      376\n",
      "0.074005 0.073730        32768        32768.0        6        2      268\n",
      "0.073898 0.073792        65536        65536.0        5        5      853\n",
      "0.073792 0.073685       131072       131072.0        5        5      523\n",
      "0.073288 0.072784       262144       262144.0        2        2      739\n",
      "0.073629 0.073971       524288       524288.0        7        7      103\n",
      "0.073862 0.074095      1048576      1048576.0        1        1      325\n",
      "\n",
      "finished run\n",
      "number of examples per pass = 1463018\n",
      "passes used = 1\n",
      "weighted example sum = 1463018.000000\n",
      "weighted label sum = 0.000000\n",
      "average loss = 0.073833\n",
      "total feature number = 867989607\n"
     ]
    }
   ],
   "source": [
    "!vw -i stackoverflow_model_1_1.vw -t -d stackoverflow_valid.vw -p stackoverflow_model_1_1_valid_predictions.txt --quiet\n",
    "!vw -i stackoverflow_model_1_2.vw -t -d stackoverflow_valid.vw -p stackoverflow_model_1_2_valid_predictions.txt --quiet\n",
    "!vw -i stackoverflow_model_1_3.vw -t -d stackoverflow_valid.vw -p stackoverflow_model_1_3_valid_predictions.txt --quiet\n",
    "!vw -i stackoverflow_model_3_1.vw -t -d stackoverflow_valid.vw -p stackoverflow_model_3_1_valid_predictions.txt --quiet\n",
    "!vw -i stackoverflow_model_3_2.vw -t -d stackoverflow_valid.vw -p stackoverflow_model_3_2_valid_predictions.txt --quiet\n",
    "!vw -i stackoverflow_model_3_3.vw -t -d stackoverflow_valid.vw -p stackoverflow_model_3_3_valid_predictions.txt --quiet\n",
    "!vw -i stackoverflow_model_5_1.vw -t -d stackoverflow_valid.vw -p stackoverflow_model_5_1_valid_predictions.txt --quiet\n",
    "!vw -i stackoverflow_model_5_2.vw -t -d stackoverflow_valid.vw -p stackoverflow_model_5_2_valid_predictions.txt --quiet\n",
    "!vw -i stackoverflow_model_5_3.vw -t -d stackoverflow_valid.vw -p stackoverflow_model_5_3_valid_predictions.txt --quiet"
   ]
  },
  {
   "cell_type": "code",
   "execution_count": 8,
   "metadata": {
    "collapsed": false
   },
   "outputs": [
    {
     "name": "stdout",
     "output_type": "stream",
     "text": [
      "1 passes, 1-grams: 0.915\n",
      "1 passes, 2-grams: 0.931\n",
      "1 passes, 3-grams: 0.929\n",
      "3 passes, 1-grams: 0.914\n",
      "3 passes, 2-grams: 0.928\n",
      "3 passes, 3-grams: 0.926\n",
      "5 passes, 1-grams: 0.914\n",
      "5 passes, 2-grams: 0.929\n",
      "5 passes, 3-grams: 0.926\n"
     ]
    }
   ],
   "source": [
    "with open('stackoverflow_valid_labels.txt') as pred_file:\n",
    "    true_labels = [int(label) for label in pred_file.readlines()]\n",
    "\n",
    "for passes in [1, 3, 5]:\n",
    "    for ngrams in [1, 2, 3]:\n",
    "        with open('stackoverflow_model_%d_%d_valid_predictions.txt' % (passes, ngrams)) as pred_file:\n",
    "            pred_labels = [int(label) for label in pred_file.readlines()]\n",
    "\n",
    "        print(\"%d passes, %d-grams: %.3f\" % (passes, ngrams, accuracy_score(true_labels, pred_labels)))"
   ]
  },
  {
   "cell_type": "markdown",
   "metadata": {},
   "source": [
    "<font color='red'> Вопрос 1.</font> Какое сочетание параметров дает наибольшую долю правильных ответов на проверочной выборке `stackoverflow_valid.vw`?\n",
    "- Биграммы и 3 прохода по выборке\n",
    "- Триграммы и 5 проходов по выборке\n",
    "- **Биграммы и 1 проход по выборке**\n",
    "- Униграммы и 1 проход по выборке"
   ]
  },
  {
   "cell_type": "markdown",
   "metadata": {},
   "source": [
    "Проверьте лучшую (по доле правильных ответов на валидации) модель на тестовой выборке. "
   ]
  },
  {
   "cell_type": "code",
   "execution_count": 9,
   "metadata": {
    "collapsed": false
   },
   "outputs": [
    {
     "name": "stdout",
     "output_type": "stream",
     "text": [
      "Generating 2-grams for all namespaces.\n",
      "only testing\n",
      "predictions = stackoverflow_model_1_2_test_predictions.txt\n",
      "Num weight bits = 28\n",
      "learning rate = 0.5\n",
      "initial_t = 0\n",
      "power_t = 0.5\n",
      "using no cache\n",
      "Reading datafile = stackoverflow_test.vw\n",
      "num sources = 1\n",
      "average  since         example        example  current  current  current\n",
      "loss     last          counter         weight    label  predict features\n",
      "0.000000 0.000000            1            1.0        9        9      370\n",
      "0.000000 0.000000            2            2.0        1        1       62\n",
      "0.000000 0.000000            4            4.0        5        5      158\n",
      "0.000000 0.000000            8            8.0        2        2      116\n",
      "0.000000 0.000000           16           16.0        6        6       74\n",
      "0.031250 0.062500           32           32.0        1        1      324\n",
      "0.046875 0.062500           64           64.0        4        4       52\n",
      "0.054688 0.062500          128          128.0        7        7      250\n",
      "0.066406 0.078125          256          256.0        7        1      192\n",
      "0.072266 0.078125          512          512.0        1        1       70\n",
      "0.064453 0.056641         1024         1024.0        2        2      176\n",
      "0.070801 0.077148         2048         2048.0        2        2       70\n",
      "0.070801 0.070801         4096         4096.0        3        3      784\n",
      "0.071533 0.072266         8192         8192.0        4        4      312\n",
      "0.070557 0.069580        16384        16384.0        4        4      296\n",
      "0.070068 0.069580        32768        32768.0        1        1      490\n",
      "0.070465 0.070862        65536        65536.0        6        6      488\n",
      "0.069366 0.068268       131072       131072.0       10       10      540\n",
      "0.068981 0.068596       262144       262144.0        3        3     1316\n",
      "0.069118 0.069256       524288       524288.0        7        7      516\n",
      "0.069042 0.068966      1048576      1048576.0        7        6     1150\n",
      "\n",
      "finished run\n",
      "number of examples per pass = 1463018\n",
      "passes used = 1\n",
      "weighted example sum = 1463018.000000\n",
      "weighted label sum = 0.000000\n",
      "average loss = 0.068809\n",
      "total feature number = 582313634\n"
     ]
    }
   ],
   "source": [
    "!vw -i stackoverflow_model_1_2.vw -t -d stackoverflow_test.vw -p stackoverflow_model_1_2_test_predictions.txt"
   ]
  },
  {
   "cell_type": "code",
   "execution_count": 10,
   "metadata": {
    "collapsed": false
   },
   "outputs": [
    {
     "name": "stdout",
     "output_type": "stream",
     "text": [
      "1 passes, 2-grams: 0.931\n"
     ]
    }
   ],
   "source": [
    "passes = 1\n",
    "ngrams = 2\n",
    "\n",
    "with open('stackoverflow_test_labels.txt') as pred_file:\n",
    "    true_labels = [int(label) for label in pred_file.readlines()]\n",
    "\n",
    "with open('stackoverflow_model_%d_%d_test_predictions.txt' % (passes, ngrams)) as pred_file:\n",
    "    pred_labels = [int(label) for label in pred_file.readlines()]\n",
    "\n",
    "print(\"%d passes, %d-grams: %.3f\" % (passes, ngrams, accuracy_score(true_labels, pred_labels)))"
   ]
  },
  {
   "cell_type": "markdown",
   "metadata": {},
   "source": [
    "<font color='red'> Вопрос 2.</font> Как соотносятся доли правильных ответов лучшей (по доле правильных ответов на валидации) модели на проверочной и на тестовой выборках? (здесь % – это процентный пункт, т.е., скажем, снижение с 50% до 40% – это на 10%, а не 20%).\n",
    "- На тестовой ниже примерно на 2%\n",
    "- На тестовой ниже примерно на 3%\n",
    "- **Результаты почти одинаковы – отличаются меньше чем на 0.5%**"
   ]
  },
  {
   "cell_type": "markdown",
   "metadata": {},
   "source": [
    "Обучите VW с параметрами, подобранными на проверочной выборке, теперь на объединении обучающей и проверочной выборок. Посчитайте долю правильных ответов на тестовой выборке. "
   ]
  },
  {
   "cell_type": "code",
   "execution_count": 11,
   "metadata": {
    "collapsed": true
   },
   "outputs": [],
   "source": [
    "! cat stackoverflow_train.vw stackoverflow_valid.vw > stackoverflow_train_plus_valid.vw"
   ]
  },
  {
   "cell_type": "code",
   "execution_count": 12,
   "metadata": {
    "collapsed": true
   },
   "outputs": [],
   "source": [
    "!vw --oaa 10 --passes 1 --ngram 2 -b 28 --random_seed 17 -d stackoverflow_train_plus_valid.vw -f stackoverflow_model_b_1_2.vw --quiet -c"
   ]
  },
  {
   "cell_type": "code",
   "execution_count": 13,
   "metadata": {
    "collapsed": false
   },
   "outputs": [
    {
     "name": "stdout",
     "output_type": "stream",
     "text": [
      "Generating 2-grams for all namespaces.\n",
      "only testing\n",
      "predictions = stackoverflow_model_b_1_2_test_predictions.txt\n",
      "Num weight bits = 28\n",
      "learning rate = 0.5\n",
      "initial_t = 0\n",
      "power_t = 0.5\n",
      "using no cache\n",
      "Reading datafile = stackoverflow_test.vw\n",
      "num sources = 1\n",
      "average  since         example        example  current  current  current\n",
      "loss     last          counter         weight    label  predict features\n",
      "0.000000 0.000000            1            1.0        9        9      370\n",
      "0.000000 0.000000            2            2.0        1        1       62\n",
      "0.000000 0.000000            4            4.0        5        5      158\n",
      "0.000000 0.000000            8            8.0        2        2      116\n",
      "0.000000 0.000000           16           16.0        6        6       74\n",
      "0.031250 0.062500           32           32.0        1        1      324\n",
      "0.062500 0.093750           64           64.0        4        2       52\n",
      "0.062500 0.062500          128          128.0        7        7      250\n",
      "0.066406 0.070312          256          256.0        7        1      192\n",
      "0.072266 0.078125          512          512.0        1        1       70\n",
      "0.067383 0.062500         1024         1024.0        2        2      176\n",
      "0.069336 0.071289         2048         2048.0        2        2       70\n",
      "0.067383 0.065430         4096         4096.0        3        3      784\n",
      "0.066406 0.065430         8192         8192.0        4        4      312\n",
      "0.065857 0.065308        16384        16384.0        4        4      296\n",
      "0.066010 0.066162        32768        32768.0        1        1      490\n",
      "0.066345 0.066681        65536        65536.0        6        6      488\n",
      "0.065483 0.064621       131072       131072.0       10       10      540\n",
      "0.065147 0.064812       262144       262144.0        3        3     1316\n",
      "0.065342 0.065536       524288       524288.0        7        7      516\n",
      "0.065061 0.064779      1048576      1048576.0        7        1     1150\n",
      "\n",
      "finished run\n",
      "number of examples per pass = 1463018\n",
      "passes used = 1\n",
      "weighted example sum = 1463018.000000\n",
      "weighted label sum = 0.000000\n",
      "average loss = 0.064813\n",
      "total feature number = 582313634\n"
     ]
    }
   ],
   "source": [
    "!vw -i stackoverflow_model_b_1_2.vw -t -d stackoverflow_test.vw -p stackoverflow_model_b_1_2_test_predictions.txt"
   ]
  },
  {
   "cell_type": "code",
   "execution_count": 14,
   "metadata": {
    "collapsed": false
   },
   "outputs": [
    {
     "name": "stdout",
     "output_type": "stream",
     "text": [
      "1 passes, 2-grams: 0.935\n"
     ]
    }
   ],
   "source": [
    "passes = 1\n",
    "ngrams = 2\n",
    "\n",
    "with open('stackoverflow_test_labels.txt') as pred_file:\n",
    "    true_labels = [int(label) for label in pred_file.readlines()]\n",
    "\n",
    "with open('stackoverflow_model_b_%d_%d_test_predictions.txt' % (passes, ngrams)) as pred_file:\n",
    "    pred_labels = [int(label) for label in pred_file.readlines()]\n",
    "\n",
    "print(\"%d passes, %d-grams: %.3f\" % (passes, ngrams, accuracy_score(true_labels, pred_labels)))"
   ]
  },
  {
   "cell_type": "markdown",
   "metadata": {},
   "source": [
    "<font color='red'> Вопрос 3.</font> На сколько процентных пунктов повысилась доля правильных ответов модели после обучения на вдвое большей выборке (обучающая `stackoverflow_train.vw` + проверочная `stackoverflow_valid.vw`) по сравнению с моделью, обученной только на `stackoverflow_train.vw`?\n",
    " - 0.1%\n",
    " - **0.4%**\n",
    " - 0.8%\n",
    " - 1.2%"
   ]
  },
  {
   "cell_type": "markdown",
   "metadata": {},
   "source": [
    "### 2.5. Заключение"
   ]
  },
  {
   "cell_type": "markdown",
   "metadata": {},
   "source": [
    "В этом задании мы только познакомились с Vowpal Wabbit. Что еще можно попробовать:\n",
    " - Классификация с несколькими ответами (multilabel classification, аргумент  `multilabel_oaa`) – формат данных тут как раз под такую задачу\n",
    " - Настройка параметров VW с hyperopt, авторы библиотеки утверждают, что качество должно сильно зависеть от параметров изменения шага градиентного спуска (`initial_t` и `power_t`). Также можно потестировать разные функции потерь – обучать логистическую регресиию или линейный SVM\n",
    " - Познакомиться с факторизационными машинами и их реализацией в VW (аргумент `lrq`)"
   ]
  }
 ],
 "metadata": {
  "kernelspec": {
   "display_name": "Python 3",
   "language": "python",
   "name": "python3"
  },
  "language_info": {
   "codemirror_mode": {
    "name": "ipython",
    "version": 3
   },
   "file_extension": ".py",
   "mimetype": "text/x-python",
   "name": "python",
   "nbconvert_exporter": "python",
   "pygments_lexer": "ipython3",
   "version": "3.6.0"
  },
  "toc": {
   "colors": {
    "hover_highlight": "#DAA520",
    "running_highlight": "#FF0000",
    "selected_highlight": "#FFD700"
   },
   "moveMenuLeft": true,
   "nav_menu": {
    "height": "228px",
    "width": "252px"
   },
   "navigate_menu": true,
   "number_sections": true,
   "sideBar": true,
   "threshold": 4,
   "toc_cell": false,
   "toc_section_display": "block",
   "toc_window_display": false
  }
 },
 "nbformat": 4,
 "nbformat_minor": 2
}
